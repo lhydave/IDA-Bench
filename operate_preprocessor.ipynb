{
 "cells": [
  {
   "cell_type": "code",
   "execution_count": 1,
   "metadata": {},
   "outputs": [],
   "source": [
    "from preprocessing_notebook.preprocess_manager import PreprocessManager\n",
    "from run_preprocessor import get_dataset_path\n",
    "\n",
    "full_notebook_path = \"/home/music2/DataSciBench/benchmark_data_toSubmit/notebooks/storage/shaswatatripathy#####store-sales-prediction.ipynb\"\n",
    "notebook_id = full_notebook_path.split(\"/\")[-1].split(\".\")[0]\n",
    "data_dir = get_dataset_path(notebook_id)\n"
   ]
  },
  {
   "cell_type": "code",
   "execution_count": 2,
   "metadata": {},
   "outputs": [
    {
     "data": {
      "text/plain": [
       "'benchmark_data_toSubmit/datasets/storage/store-sales-time-series-forecasting'"
      ]
     },
     "execution_count": 2,
     "metadata": {},
     "output_type": "execute_result"
    }
   ],
   "source": [
    "data_dir"
   ]
  },
  {
   "cell_type": "code",
   "execution_count": 3,
   "metadata": {},
   "outputs": [],
   "source": [
    "preprocessor = PreprocessManager(full_notebook_path, data_dir)"
   ]
  },
  {
   "cell_type": "code",
   "execution_count": 5,
   "metadata": {},
   "outputs": [
    {
     "name": "stdout",
     "output_type": "stream",
     "text": [
      "2025-05-14 00:23:22 - DataSciBench - INFO - Read notebook content from preprocessing_notebook/preprocess_data/shaswatatripathy#####store-sales-prediction/minimized_markdown.md\n",
      "2025-05-14 00:23:48 - DataSciBench - INFO - Full response from extractor saved to: preprocessing_notebook/preprocess_data/shaswatatripathy#####store-sales-prediction/narration_response.md\n",
      "2025-05-14 00:23:48 - DataSciBench - INFO - Collected narration response from shaswatatripathy#####store-sales-prediction.md\n",
      "2025-05-14 00:23:48 - DataSciBench - INFO - Reading response from file: preprocessing_notebook/preprocess_data/shaswatatripathy#####store-sales-prediction/narration_response.md\n",
      "2025-05-14 00:23:48 - DataSciBench - INFO - Extracting instructions and knowledge from response\n",
      "2025-05-14 00:23:48 - DataSciBench - INFO - Parsed instructions saved to: preprocessing_notebook/preprocess_data/shaswatatripathy#####store-sales-prediction/instructions.md\n",
      "2025-05-14 00:23:48 - DataSciBench - INFO - Parsed knowledge saved to: preprocessing_notebook/preprocess_data/shaswatatripathy#####store-sales-prediction/knowledge.md\n",
      "2025-05-14 00:23:48 - DataSciBench - INFO - Found 22 instruction items and 11 knowledge items\n",
      "2025-05-14 00:23:48 - DataSciBench - INFO - Parsed instructions and knowledge from narration response and saved to preprocessing_notebook/preprocess_data/shaswatatripathy#####store-sales-prediction/instructions.md and preprocessing_notebook/preprocess_data/shaswatatripathy#####store-sales-prediction/knowledge.md\n"
     ]
    }
   ],
   "source": [
    "#preprocessor.run_python_notebook()\n",
    "#preprocessor.run_evaluation()\n",
    "#preprocessor.copy_dict_items()\n",
    "### narration\n",
    "preprocessor.narration()\n",
    "preprocessor.extract_instructions_and_knowledge()"
   ]
  },
  {
   "cell_type": "code",
   "execution_count": 7,
   "metadata": {},
   "outputs": [
    {
     "name": "stdout",
     "output_type": "stream",
     "text": [
      "2025-05-14 00:25:28 - DataSciBench - INFO - Executed Python file: preprocessing_notebook/preprocess_data/shaswatatripathy#####store-sales-prediction/minimized_notebook.py\n",
      "2025-05-14 00:25:28 - DataSciBench - INFO - Read notebook content from preprocessing_notebook/preprocess_data/shaswatatripathy#####store-sales-prediction/minimized_markdown.md\n",
      "2025-05-14 00:25:58 - DataSciBench - INFO - Full response from extractor saved to: preprocessing_notebook/preprocess_data/shaswatatripathy#####store-sales-prediction/narration_response.md\n",
      "2025-05-14 00:25:58 - DataSciBench - INFO - Collected narration response from shaswatatripathy#####store-sales-prediction.md\n",
      "2025-05-14 00:25:58 - DataSciBench - INFO - Reading response from file: preprocessing_notebook/preprocess_data/shaswatatripathy#####store-sales-prediction/narration_response.md\n",
      "2025-05-14 00:25:58 - DataSciBench - INFO - Extracting instructions and knowledge from response\n",
      "2025-05-14 00:25:58 - DataSciBench - INFO - Parsed instructions saved to: preprocessing_notebook/preprocess_data/shaswatatripathy#####store-sales-prediction/instructions.md\n",
      "2025-05-14 00:25:58 - DataSciBench - INFO - Parsed knowledge saved to: preprocessing_notebook/preprocess_data/shaswatatripathy#####store-sales-prediction/knowledge.md\n",
      "2025-05-14 00:25:58 - DataSciBench - INFO - Found 21 instruction items and 10 knowledge items\n",
      "2025-05-14 00:25:58 - DataSciBench - INFO - Parsed instructions and knowledge from narration response and saved to preprocessing_notebook/preprocess_data/shaswatatripathy#####store-sales-prediction/instructions.md and preprocessing_notebook/preprocess_data/shaswatatripathy#####store-sales-prediction/knowledge.md\n"
     ]
    }
   ],
   "source": [
    "preprocessor._set_data_paths()\n",
    "preprocessor.run_python_notebook()\n",
    "preprocessor.narration()\n",
    "preprocessor.extract_instructions_and_knowledge()"
   ]
  },
  {
   "cell_type": "code",
   "execution_count": 8,
   "metadata": {},
   "outputs": [
    {
     "name": "stdout",
     "output_type": "stream",
     "text": [
      "Successfully copied all files from 'benchmark_data_toSubmit/datasets/storage/playground-series-s5e4' to 'preprocessing_notebook/preprocess_data/iseedeep#####mission-podcast-listening-prediction/dataset'\n",
      "2025-05-12 16:33:08 - DataSciBench - INFO - Converted notebook saved to: preprocessing_notebook/preprocess_data/iseedeep#####mission-podcast-listening-prediction/full_markdown.md\n",
      "2025-05-12 16:33:08 - DataSciBench - INFO - Converted iseedeep#####mission-podcast-listening-prediction.ipynb to iseedeep#####mission-podcast-listening-prediction.md\n"
     ]
    },
    {
     "name": "stdout",
     "output_type": "stream",
     "text": [
      "2025-05-12 16:33:53 - DataSciBench - INFO - Full response saved to: preprocessing_notebook/preprocess_data/iseedeep#####mission-podcast-listening-prediction/minimizing_response.md\n",
      "2025-05-12 16:33:53 - DataSciBench - INFO - Minimized iseedeep#####mission-podcast-listening-prediction.md and saved full response to preprocessing_notebook/preprocess_data/iseedeep#####mission-podcast-listening-prediction/minimizing_response.md\n",
      "2025-05-12 16:33:53 - DataSciBench - INFO - Reading response from file: preprocessing_notebook/preprocess_data/iseedeep#####mission-podcast-listening-prediction/minimizing_response.md\n",
      "2025-05-12 16:33:53 - DataSciBench - INFO - Extracting markdown content from response\n",
      "2025-05-12 16:33:53 - DataSciBench - INFO - Found 1 markdown sections\n",
      "2025-05-12 16:33:53 - DataSciBench - INFO - Using longest section (length: 6760 characters)\n",
      "2025-05-12 16:33:53 - DataSciBench - INFO - Parsed markdown saved to: preprocessing_notebook/preprocess_data/iseedeep#####mission-podcast-listening-prediction/minimized_markdown.md\n",
      "2025-05-12 16:33:53 - DataSciBench - INFO - Parsed minimized notebook from full response and saved to preprocessing_notebook/preprocess_data/iseedeep#####mission-podcast-listening-prediction/minimized_markdown.md\n",
      "2025-05-12 16:33:53 - DataSciBench - INFO - Reading response from file: preprocessing_notebook/preprocess_data/iseedeep#####mission-podcast-listening-prediction/minimizing_response.md\n",
      "2025-05-12 16:33:53 - DataSciBench - INFO - Extracting main result from response\n",
      "2025-05-12 16:33:53 - DataSciBench - INFO - Found 1 main result sections\n",
      "2025-05-12 16:33:53 - DataSciBench - INFO - Using longest section (length: 197 characters)\n",
      "2025-05-12 16:33:53 - DataSciBench - INFO - Parsed main result saved to: preprocessing_notebook/preprocess_data/iseedeep#####mission-podcast-listening-prediction/metric_info.json\n",
      "2025-05-12 16:33:53 - DataSciBench - INFO - Parsed numerical result from minimizing response and saved to preprocessing_notebook/preprocess_data/iseedeep#####mission-podcast-listening-prediction/metric_info.json\n",
      "2025-05-12 16:33:53 - DataSciBench - INFO - Reading response from file: preprocessing_notebook/preprocess_data/iseedeep#####mission-podcast-listening-prediction/minimizing_response.md\n",
      "2025-05-12 16:33:53 - DataSciBench - INFO - Extracting evaluation metrics from response\n",
      "2025-05-12 16:33:53 - DataSciBench - INFO - Found 1 evaluation metrics sections\n",
      "2025-05-12 16:33:53 - DataSciBench - INFO - All 1 evaluation metrics sections saved to: preprocessing_notebook/preprocess_data/iseedeep#####mission-podcast-listening-prediction/evaluation_metrics.py\n",
      "2025-05-12 16:33:53 - DataSciBench - INFO - Parsed evaluation metrics from reconstruction response and saved to preprocessing_notebook/preprocess_data/iseedeep#####mission-podcast-listening-prediction/evaluation_metrics.py\n",
      "2025-05-12 16:33:53 - DataSciBench - INFO - Extracted 11 Python code blocks to preprocessing_notebook/preprocess_data/iseedeep#####mission-podcast-listening-prediction/minimized_notebook.py\n",
      "2025-05-12 16:33:53 - DataSciBench - INFO - Converted minimized iseedeep#####mission-podcast-listening-prediction markdown file to python file\n",
      "2025-05-12 16:33:53 - DataSciBench - INFO - Set data directories in minimized notebook python file to preprocessing_notebook/preprocess_data/iseedeep#####mission-podcast-listening-prediction/dataset\n",
      "2025-05-12 16:34:23 - DataSciBench - INFO - Executed Python file: preprocessing_notebook/preprocess_data/iseedeep#####mission-podcast-listening-prediction/minimized_notebook.py\n",
      "2025-05-12 16:34:23 - DataSciBench - INFO - Running evaluation...\n",
      "2025-05-12 16:34:23 - DataSciBench - INFO - Evaluation completed. Score: 13.079265771188956\n",
      "2025-05-12 16:34:23 - DataSciBench - INFO - Evaluation information saved to: preprocessing_notebook/preprocess_data/iseedeep#####mission-podcast-listening-prediction/numeric_baseline.json\n",
      "2025-05-12 16:34:23 - DataSciBench - INFO - Evaluated reconstructed code\n",
      "Copied 'is_higher_better': False\n",
      "Copied 'theoretical_best': 0.0\n",
      "Successfully updated preprocessing_notebook/preprocess_data/iseedeep#####mission-podcast-listening-prediction/numeric_baseline.json with values from preprocessing_notebook/preprocess_data/iseedeep#####mission-podcast-listening-prediction/metric_info.json\n",
      "2025-05-12 16:34:23 - DataSciBench - INFO - Copied None from preprocessing_notebook/preprocess_data/iseedeep#####mission-podcast-listening-prediction/metric_info.json to preprocessing_notebook/preprocess_data/iseedeep#####mission-podcast-listening-prediction/numeric_baseline.json\n",
      "2025-05-12 16:34:23 - DataSciBench - INFO - Read notebook content from preprocessing_notebook/preprocess_data/iseedeep#####mission-podcast-listening-prediction/minimized_markdown.md\n",
      "2025-05-12 16:34:44 - DataSciBench - INFO - Full response from extractor saved to: preprocessing_notebook/preprocess_data/iseedeep#####mission-podcast-listening-prediction/narration_response.md\n",
      "2025-05-12 16:34:44 - DataSciBench - INFO - Collected narration response from iseedeep#####mission-podcast-listening-prediction.md\n",
      "2025-05-12 16:34:44 - DataSciBench - INFO - Reading response from file: preprocessing_notebook/preprocess_data/iseedeep#####mission-podcast-listening-prediction/narration_response.md\n",
      "2025-05-12 16:34:44 - DataSciBench - INFO - Extracting instructions and knowledge from response\n",
      "2025-05-12 16:34:44 - DataSciBench - INFO - Parsed instructions saved to: preprocessing_notebook/preprocess_data/iseedeep#####mission-podcast-listening-prediction/instructions.md\n",
      "2025-05-12 16:34:44 - DataSciBench - INFO - Parsed knowledge saved to: preprocessing_notebook/preprocess_data/iseedeep#####mission-podcast-listening-prediction/knowledge.md\n",
      "2025-05-12 16:34:44 - DataSciBench - INFO - Found 10 instruction items and 10 knowledge items\n",
      "2025-05-12 16:34:44 - DataSciBench - INFO - Parsed instructions and knowledge from narration response and saved to preprocessing_notebook/preprocess_data/iseedeep#####mission-podcast-listening-prediction/instructions.md and preprocessing_notebook/preprocess_data/iseedeep#####mission-podcast-listening-prediction/knowledge.md\n"
     ]
    }
   ],
   "source": [
    "preprocessor.run()"
   ]
  },
  {
   "cell_type": "code",
   "execution_count": 3,
   "metadata": {},
   "outputs": [
    {
     "name": "stdout",
     "output_type": "stream",
     "text": [
      "2025-05-10 16:02:26 - DataSciBench - INFO - Found 4 CSV files in benchmark_data/datasets/storage/shashanknecrothapa/ames-housing-dataset\n",
      "2025-05-10 16:02:26 - DataSciBench - INFO - Attempting to read AmesHousing.csv with utf-8 encoding\n",
      "2025-05-10 16:02:26 - DataSciBench - INFO - Wrote AmesHousing_train.csv and AmesHousing_test.csv\n",
      "2025-05-10 16:02:26 - DataSciBench - INFO - Attempting to read AmesHousing_test.csv with utf-8 encoding\n",
      "2025-05-10 16:02:26 - DataSciBench - INFO - Wrote feature file AmesHousing_test_features.csv (dropped 1 response columns)\n",
      "2025-05-10 16:02:26 - DataSciBench - INFO - Split dataset into train and test sets\n"
     ]
    }
   ],
   "source": [
    "#preprocessor.convert_full_notebook_to_markdown()\n",
    "#preprocessor.minimize_notebook()\n",
    "#preprocessor.extract_minimized_markdown()\n",
    "#preprocessor.extract_numerical_result()\n",
    "#preprocessor.convert_markdown_to_python()\n",
    "\n",
    "### split dataset\n",
    "preprocessor.split_dataset()\n"
   ]
  },
  {
   "cell_type": "code",
   "execution_count": 4,
   "metadata": {},
   "outputs": [
    {
     "name": "stdout",
     "output_type": "stream",
     "text": [
      "2025-05-10 16:03:38 - DataSciBench - INFO - Executed Python file: preprocessing_notebook/preprocess_data/aarthi93#####end-to-end-ml-pipeline/reconstructed_code.py\n",
      "2025-05-10 16:03:38 - DataSciBench - INFO - Running evaluation...\n",
      "2025-05-10 16:03:38 - DataSciBench - INFO - Evaluation completed. Score: 0.9132813154826093\n",
      "2025-05-10 16:03:38 - DataSciBench - INFO - Evaluation information saved to: preprocessing_notebook/preprocess_data/aarthi93#####end-to-end-ml-pipeline/numeric_baseline.json\n",
      "2025-05-10 16:03:38 - DataSciBench - INFO - Evaluated reconstructed code\n",
      "2025-05-10 16:03:38 - DataSciBench - INFO - Read notebook content from preprocessing_notebook/preprocess_data/aarthi93#####end-to-end-ml-pipeline/minimized_markdown.md\n",
      "2025-05-10 16:04:02 - DataSciBench - INFO - Full response from extractor saved to: preprocessing_notebook/preprocess_data/aarthi93#####end-to-end-ml-pipeline/narration_response.md\n",
      "2025-05-10 16:04:02 - DataSciBench - INFO - Collected narration response from aarthi93#####end-to-end-ml-pipeline.md\n",
      "2025-05-10 16:04:02 - DataSciBench - INFO - Reading response from file: preprocessing_notebook/preprocess_data/aarthi93#####end-to-end-ml-pipeline/narration_response.md\n",
      "2025-05-10 16:04:02 - DataSciBench - INFO - Extracting instructions and knowledge from response\n",
      "2025-05-10 16:04:02 - DataSciBench - INFO - Parsed instructions saved to: preprocessing_notebook/preprocess_data/aarthi93#####end-to-end-ml-pipeline/instructions.md\n",
      "2025-05-10 16:04:02 - DataSciBench - INFO - Parsed knowledge saved to: preprocessing_notebook/preprocess_data/aarthi93#####end-to-end-ml-pipeline/knowledge.md\n",
      "2025-05-10 16:04:02 - DataSciBench - INFO - Found 7 instruction items and 8 knowledge items\n",
      "2025-05-10 16:04:02 - DataSciBench - INFO - Parsed instructions and knowledge from narration response and saved to preprocessing_notebook/preprocess_data/aarthi93#####end-to-end-ml-pipeline/instructions.md and preprocessing_notebook/preprocess_data/aarthi93#####end-to-end-ml-pipeline/knowledge.md\n"
     ]
    }
   ],
   "source": [
    "\n",
    "### reconstruct minimized notebook\n",
    "# preprocessor.reconstruct_minimized_notebook()\n",
    "# preprocessor.extract_reconstructed_code()\n",
    "# preprocessor.extract_evaluation_metrics()\n",
    "\n",
    "### run python notebook and evaluation\n",
    "preprocessor.run_python_notebook()\n",
    "preprocessor.run_evaluation()\n",
    "\n",
    "### narration\n",
    "preprocessor.narration()\n",
    "preprocessor.extract_instructions_and_knowledge() \n"
   ]
  },
  {
   "cell_type": "code",
   "execution_count": 4,
   "metadata": {},
   "outputs": [
    {
     "name": "stdout",
     "output_type": "stream",
     "text": [
      "2025-05-10 20:41:43 - DataSciBench - INFO - Executed Python file: preprocessing_notebook/preprocess_data/hasangulec#####feature-engineering-diabetes/reconstructed_code.py\n",
      "2025-05-10 20:41:43 - DataSciBench - INFO - Running evaluation...\n",
      "2025-05-10 20:41:43 - DataSciBench - INFO - Evaluation completed. Score: 0.7489177489177489\n",
      "2025-05-10 20:41:43 - DataSciBench - INFO - Evaluation information saved to: preprocessing_notebook/preprocess_data/hasangulec#####feature-engineering-diabetes/numeric_baseline.json\n",
      "2025-05-10 20:41:43 - DataSciBench - INFO - Evaluated reconstructed code\n"
     ]
    }
   ],
   "source": [
    "# preprocessor.extract_reconstructed_code()\n",
    "# preprocessor.extract_evaluation_metrics()\n",
    "\n",
    "### run python notebook and evaluation\n",
    "preprocessor.run_python_notebook()\n",
    "preprocessor.run_evaluation()"
   ]
  },
  {
   "cell_type": "code",
   "execution_count": null,
   "metadata": {},
   "outputs": [],
   "source": []
  }
 ],
 "metadata": {
  "kernelspec": {
   "display_name": ".venv",
   "language": "python",
   "name": "python3"
  },
  "language_info": {
   "codemirror_mode": {
    "name": "ipython",
    "version": 3
   },
   "file_extension": ".py",
   "mimetype": "text/x-python",
   "name": "python",
   "nbconvert_exporter": "python",
   "pygments_lexer": "ipython3",
   "version": "3.12.4"
  }
 },
 "nbformat": 4,
 "nbformat_minor": 2
}
