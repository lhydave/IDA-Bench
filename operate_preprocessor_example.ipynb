{
 "cells": [
  {
   "cell_type": "code",
   "execution_count": null,
   "metadata": {},
   "outputs": [],
   "source": [
    "from preprocessing_notebook.preprocess_manager import PreprocessManager\n",
    "from run_preprocessor import get_dataset_path\n",
    "\n",
    "full_notebook_path = \"test_data/notebooks/storage/sudalairajkumar#####simple-feature-engg-notebook-spooky-author.ipynb\"\n",
    "notebook_id = full_notebook_path.split(\"/\")[-1].split(\".\")[0]\n",
    "data_dir = get_dataset_path(notebook_id)\n"
   ]
  },
  {
   "cell_type": "code",
   "execution_count": 2,
   "metadata": {},
   "outputs": [
    {
     "data": {
      "text/plain": [
       "'test_data/datasets/storage/spooky-author-identification'"
      ]
     },
     "execution_count": 2,
     "metadata": {},
     "output_type": "execute_result"
    }
   ],
   "source": [
    "data_dir"
   ]
  },
  {
   "cell_type": "code",
   "execution_count": 3,
   "metadata": {},
   "outputs": [],
   "source": [
    "preprocessor = PreprocessManager(full_notebook_path, data_dir)"
   ]
  },
  {
   "cell_type": "code",
   "execution_count": 4,
   "metadata": {},
   "outputs": [
    {
     "name": "stdout",
     "output_type": "stream",
     "text": [
      "Successfully copied all files from 'test_data/datasets/storage/spooky-author-identification' to 'preprocessing_notebook/preprocess_data/sudalairajkumar#####simple-feature-engg-notebook-spooky-author/dataset'\n",
      "2025-05-14 11:40:35 - DataSciBench - INFO - Converted notebook saved to: preprocessing_notebook/preprocess_data/sudalairajkumar#####simple-feature-engg-notebook-spooky-author/full_markdown.md\n",
      "2025-05-14 11:40:35 - DataSciBench - INFO - Converted sudalairajkumar#####simple-feature-engg-notebook-spooky-author.ipynb to sudalairajkumar#####simple-feature-engg-notebook-spooky-author.md\n",
      "2025-05-14 11:41:28 - DataSciBench - INFO - Full response saved to: preprocessing_notebook/preprocess_data/sudalairajkumar#####simple-feature-engg-notebook-spooky-author/minimizing_response.md\n",
      "2025-05-14 11:41:28 - DataSciBench - INFO - Minimized sudalairajkumar#####simple-feature-engg-notebook-spooky-author.md and saved full response to preprocessing_notebook/preprocess_data/sudalairajkumar#####simple-feature-engg-notebook-spooky-author/minimizing_response.md\n",
      "2025-05-14 11:41:28 - DataSciBench - INFO - Reading response from file: preprocessing_notebook/preprocess_data/sudalairajkumar#####simple-feature-engg-notebook-spooky-author/minimizing_response.md\n",
      "2025-05-14 11:41:28 - DataSciBench - INFO - Extracting markdown content from response\n",
      "2025-05-14 11:41:28 - DataSciBench - ERROR - Error: Mismatched markdown tags. Found 1 opening tags and 0 closing tags.\n",
      "2025-05-14 11:41:28 - DataSciBench - INFO - Warning: Could not find <markdown> tags in the response. Using full response.\n",
      "2025-05-14 11:41:28 - DataSciBench - INFO - Full response saved to: preprocessing_notebook/preprocess_data/sudalairajkumar#####simple-feature-engg-notebook-spooky-author/minimized_markdown.md\n",
      "2025-05-14 11:41:28 - DataSciBench - INFO - Parsed minimized notebook from full response and saved to preprocessing_notebook/preprocess_data/sudalairajkumar#####simple-feature-engg-notebook-spooky-author/minimized_markdown.md\n",
      "2025-05-14 11:41:28 - DataSciBench - INFO - Reading response from file: preprocessing_notebook/preprocess_data/sudalairajkumar#####simple-feature-engg-notebook-spooky-author/minimizing_response.md\n",
      "2025-05-14 11:41:28 - DataSciBench - INFO - Extracting main result from response\n",
      "2025-05-14 11:41:28 - DataSciBench - INFO - Found 1 main result sections\n",
      "2025-05-14 11:41:28 - DataSciBench - INFO - Using longest section (length: 161 characters)\n",
      "2025-05-14 11:41:28 - DataSciBench - INFO - Parsed main result saved to: preprocessing_notebook/preprocess_data/sudalairajkumar#####simple-feature-engg-notebook-spooky-author/metric_info.json\n",
      "2025-05-14 11:41:28 - DataSciBench - INFO - Parsed numerical result from minimizing response and saved to preprocessing_notebook/preprocess_data/sudalairajkumar#####simple-feature-engg-notebook-spooky-author/metric_info.json\n",
      "2025-05-14 11:41:28 - DataSciBench - INFO - Reading response from file: preprocessing_notebook/preprocess_data/sudalairajkumar#####simple-feature-engg-notebook-spooky-author/minimizing_response.md\n",
      "2025-05-14 11:41:28 - DataSciBench - INFO - Extracting evaluation metrics from response\n",
      "2025-05-14 11:41:28 - DataSciBench - INFO - Found 1 evaluation metrics sections\n",
      "2025-05-14 11:41:28 - DataSciBench - INFO - All 1 evaluation metrics sections saved to: preprocessing_notebook/preprocess_data/sudalairajkumar#####simple-feature-engg-notebook-spooky-author/evaluation_metrics.py\n",
      "2025-05-14 11:41:28 - DataSciBench - INFO - Parsed evaluation metrics from reconstruction response and saved to preprocessing_notebook/preprocess_data/sudalairajkumar#####simple-feature-engg-notebook-spooky-author/evaluation_metrics.py\n",
      "2025-05-14 11:41:28 - DataSciBench - INFO - Extracted 11 Python code blocks to preprocessing_notebook/preprocess_data/sudalairajkumar#####simple-feature-engg-notebook-spooky-author/minimized_notebook.py\n",
      "2025-05-14 11:41:28 - DataSciBench - INFO - Converted minimized sudalairajkumar#####simple-feature-engg-notebook-spooky-author markdown file to python file\n",
      "2025-05-14 11:41:28 - DataSciBench - INFO - Set data directories in minimized notebook python file to preprocessing_notebook/preprocess_data/sudalairajkumar#####simple-feature-engg-notebook-spooky-author/dataset\n",
      "2025-05-14 11:41:32 - DataSciBench - INFO - Executed Python file: preprocessing_notebook/preprocess_data/sudalairajkumar#####simple-feature-engg-notebook-spooky-author/minimized_notebook.py\n",
      "2025-05-14 11:41:32 - DataSciBench - INFO - Running evaluation...\n",
      "2025-05-14 11:41:32 - DataSciBench - ERROR - Error in run_evaluation: [Errno 2] No such file or directory: 'preprocessing_notebook/preprocess_data/sudalairajkumar#####simple-feature-engg-notebook-spooky-author/dataset/baseline_submission.csv'\n"
     ]
    },
    {
     "ename": "FileNotFoundError",
     "evalue": "[Errno 2] No such file or directory: 'preprocessing_notebook/preprocess_data/sudalairajkumar#####simple-feature-engg-notebook-spooky-author/dataset/baseline_submission.csv'",
     "output_type": "error",
     "traceback": [
      "\u001b[31m---------------------------------------------------------------------------\u001b[39m",
      "\u001b[31mFileNotFoundError\u001b[39m                         Traceback (most recent call last)",
      "\u001b[36mCell\u001b[39m\u001b[36m \u001b[39m\u001b[32mIn[4]\u001b[39m\u001b[32m, line 1\u001b[39m\n\u001b[32m----> \u001b[39m\u001b[32m1\u001b[39m \u001b[43mpreprocessor\u001b[49m\u001b[43m.\u001b[49m\u001b[43mrun\u001b[49m\u001b[43m(\u001b[49m\u001b[43m)\u001b[49m\n",
      "\u001b[36mFile \u001b[39m\u001b[32m~/llm_data_analysis_bench/IDA-Bench/preprocessing_notebook/preprocess_manager.py:426\u001b[39m, in \u001b[36mPreprocessManager.run\u001b[39m\u001b[34m(self)\u001b[39m\n\u001b[32m    424\u001b[39m     \u001b[38;5;28mself\u001b[39m.run_selfEval()\n\u001b[32m    425\u001b[39m \u001b[38;5;28;01melif\u001b[39;00m \u001b[38;5;28mself\u001b[39m.preprocess_version == \u001b[33m\"\u001b[39m\u001b[33mtoSubmit\u001b[39m\u001b[33m\"\u001b[39m:\n\u001b[32m--> \u001b[39m\u001b[32m426\u001b[39m     \u001b[38;5;28;43mself\u001b[39;49m\u001b[43m.\u001b[49m\u001b[43mrun_toSubmit\u001b[49m\u001b[43m(\u001b[49m\u001b[43m)\u001b[49m\n\u001b[32m    427\u001b[39m \u001b[38;5;28;01melse\u001b[39;00m:\n\u001b[32m    428\u001b[39m     \u001b[38;5;28;01mraise\u001b[39;00m \u001b[38;5;167;01mValueError\u001b[39;00m(\u001b[33mf\u001b[39m\u001b[33m\"\u001b[39m\u001b[33mInvalid preprocess version: \u001b[39m\u001b[38;5;132;01m{\u001b[39;00m\u001b[38;5;28mself\u001b[39m.preprocess_version\u001b[38;5;132;01m}\u001b[39;00m\u001b[33m\"\u001b[39m)\n",
      "\u001b[36mFile \u001b[39m\u001b[32m~/llm_data_analysis_bench/IDA-Bench/preprocessing_notebook/preprocess_manager.py:479\u001b[39m, in \u001b[36mPreprocessManager.run_toSubmit\u001b[39m\u001b[34m(self)\u001b[39m\n\u001b[32m    477\u001b[39m \u001b[38;5;28mself\u001b[39m.update_data_dir_in_pyfile()\n\u001b[32m    478\u001b[39m \u001b[38;5;28mself\u001b[39m.run_python_notebook()\n\u001b[32m--> \u001b[39m\u001b[32m479\u001b[39m \u001b[38;5;28;43mself\u001b[39;49m\u001b[43m.\u001b[49m\u001b[43mrun_evaluation\u001b[49m\u001b[43m(\u001b[49m\u001b[43m)\u001b[49m\n\u001b[32m    480\u001b[39m \u001b[38;5;28mself\u001b[39m.copy_dict_items()\n\u001b[32m    481\u001b[39m \u001b[38;5;66;03m### narration\u001b[39;00m\n",
      "\u001b[36mFile \u001b[39m\u001b[32m~/llm_data_analysis_bench/IDA-Bench/preprocessing_notebook/preprocess_manager.py:358\u001b[39m, in \u001b[36mPreprocessManager.run_evaluation\u001b[39m\u001b[34m(self, eval_script_path, y_test_path, y_pred_path, output_json_path)\u001b[39m\n\u001b[32m    355\u001b[39m \u001b[38;5;28;01mif\u001b[39;00m output_json_path \u001b[38;5;129;01mis\u001b[39;00m \u001b[38;5;28;01mNone\u001b[39;00m:\n\u001b[32m    356\u001b[39m     output_json_path = \u001b[38;5;28mself\u001b[39m.numeric_baseline_path\n\u001b[32m--> \u001b[39m\u001b[32m358\u001b[39m \u001b[43mrun_evaluation\u001b[49m\u001b[43m(\u001b[49m\u001b[43meval_script_path\u001b[49m\u001b[43m,\u001b[49m\u001b[43m \u001b[49m\u001b[43my_test_path\u001b[49m\u001b[43m,\u001b[49m\u001b[43m \u001b[49m\u001b[43my_pred_path\u001b[49m\u001b[43m,\u001b[49m\u001b[43m \u001b[49m\u001b[43moutput_json_path\u001b[49m\u001b[43m)\u001b[49m\n\u001b[32m    359\u001b[39m logger.info(\u001b[33mf\u001b[39m\u001b[33m\"\u001b[39m\u001b[33mEvaluated reconstructed code\u001b[39m\u001b[33m\"\u001b[39m)\n",
      "\u001b[36mFile \u001b[39m\u001b[32m~/llm_data_analysis_bench/IDA-Bench/preprocessing_notebook/utils/run_eval.py:40\u001b[39m, in \u001b[36mrun_evaluation\u001b[39m\u001b[34m(eval_script_path, y_test_path, y_pred_path, output_json_path)\u001b[39m\n\u001b[32m     38\u001b[39m \u001b[38;5;66;03m# Run the evaluation with file paths\u001b[39;00m\n\u001b[32m     39\u001b[39m logger.info(\u001b[33m\"\u001b[39m\u001b[33mRunning evaluation...\u001b[39m\u001b[33m\"\u001b[39m)\n\u001b[32m---> \u001b[39m\u001b[32m40\u001b[39m score = \u001b[43mevaluation_module\u001b[49m\u001b[43m.\u001b[49m\u001b[43mevaluate\u001b[49m\u001b[43m(\u001b[49m\u001b[43my_test_path\u001b[49m\u001b[43m,\u001b[49m\u001b[43m \u001b[49m\u001b[43my_pred_path\u001b[49m\u001b[43m)\u001b[49m\n\u001b[32m     42\u001b[39m \u001b[38;5;66;03m# Prepare evaluation information\u001b[39;00m\n\u001b[32m     43\u001b[39m eval_info = {\n\u001b[32m     44\u001b[39m     \u001b[33m\"\u001b[39m\u001b[33mscore\u001b[39m\u001b[33m\"\u001b[39m: score,\n\u001b[32m     45\u001b[39m     \u001b[33m\"\u001b[39m\u001b[33msuccess\u001b[39m\u001b[33m\"\u001b[39m: \u001b[38;5;28;01mTrue\u001b[39;00m\n\u001b[32m     46\u001b[39m }\n",
      "\u001b[36mFile \u001b[39m\u001b[32m~/llm_data_analysis_bench/IDA-Bench/preprocessing_notebook/preprocess_data/sudalairajkumar#####simple-feature-engg-notebook-spooky-author/evaluation_metrics.py:17\u001b[39m, in \u001b[36mevaluate\u001b[39m\u001b[34m(y_true_path, y_pred_path)\u001b[39m\n\u001b[32m      6\u001b[39m \u001b[38;5;250m\u001b[39m\u001b[33;03m\"\"\"\u001b[39;00m\n\u001b[32m      7\u001b[39m \u001b[33;03mEvaluate the submission using log loss with eps=auto.\u001b[39;00m\n\u001b[32m      8\u001b[39m \u001b[33;03m\u001b[39;00m\n\u001b[32m   (...)\u001b[39m\u001b[32m     14\u001b[39m \u001b[33;03m    float: Log loss score\u001b[39;00m\n\u001b[32m     15\u001b[39m \u001b[33;03m\"\"\"\u001b[39;00m\n\u001b[32m     16\u001b[39m \u001b[38;5;66;03m# Read the CSV files\u001b[39;00m\n\u001b[32m---> \u001b[39m\u001b[32m17\u001b[39m submission_df = \u001b[43mpd\u001b[49m\u001b[43m.\u001b[49m\u001b[43mread_csv\u001b[49m\u001b[43m(\u001b[49m\u001b[43my_pred_path\u001b[49m\u001b[43m)\u001b[49m\n\u001b[32m     18\u001b[39m ground_truth_df = pd.read_csv(y_true_path)\n\u001b[32m     20\u001b[39m \u001b[38;5;66;03m# Ensure both dataframes have the same columns\u001b[39;00m\n",
      "\u001b[36mFile \u001b[39m\u001b[32m~/llm_data_analysis_bench/IDA-Bench/.venv/lib/python3.12/site-packages/pandas/io/parsers/readers.py:1026\u001b[39m, in \u001b[36mread_csv\u001b[39m\u001b[34m(filepath_or_buffer, sep, delimiter, header, names, index_col, usecols, dtype, engine, converters, true_values, false_values, skipinitialspace, skiprows, skipfooter, nrows, na_values, keep_default_na, na_filter, verbose, skip_blank_lines, parse_dates, infer_datetime_format, keep_date_col, date_parser, date_format, dayfirst, cache_dates, iterator, chunksize, compression, thousands, decimal, lineterminator, quotechar, quoting, doublequote, escapechar, comment, encoding, encoding_errors, dialect, on_bad_lines, delim_whitespace, low_memory, memory_map, float_precision, storage_options, dtype_backend)\u001b[39m\n\u001b[32m   1013\u001b[39m kwds_defaults = _refine_defaults_read(\n\u001b[32m   1014\u001b[39m     dialect,\n\u001b[32m   1015\u001b[39m     delimiter,\n\u001b[32m   (...)\u001b[39m\u001b[32m   1022\u001b[39m     dtype_backend=dtype_backend,\n\u001b[32m   1023\u001b[39m )\n\u001b[32m   1024\u001b[39m kwds.update(kwds_defaults)\n\u001b[32m-> \u001b[39m\u001b[32m1026\u001b[39m \u001b[38;5;28;01mreturn\u001b[39;00m \u001b[43m_read\u001b[49m\u001b[43m(\u001b[49m\u001b[43mfilepath_or_buffer\u001b[49m\u001b[43m,\u001b[49m\u001b[43m \u001b[49m\u001b[43mkwds\u001b[49m\u001b[43m)\u001b[49m\n",
      "\u001b[36mFile \u001b[39m\u001b[32m~/llm_data_analysis_bench/IDA-Bench/.venv/lib/python3.12/site-packages/pandas/io/parsers/readers.py:620\u001b[39m, in \u001b[36m_read\u001b[39m\u001b[34m(filepath_or_buffer, kwds)\u001b[39m\n\u001b[32m    617\u001b[39m _validate_names(kwds.get(\u001b[33m\"\u001b[39m\u001b[33mnames\u001b[39m\u001b[33m\"\u001b[39m, \u001b[38;5;28;01mNone\u001b[39;00m))\n\u001b[32m    619\u001b[39m \u001b[38;5;66;03m# Create the parser.\u001b[39;00m\n\u001b[32m--> \u001b[39m\u001b[32m620\u001b[39m parser = \u001b[43mTextFileReader\u001b[49m\u001b[43m(\u001b[49m\u001b[43mfilepath_or_buffer\u001b[49m\u001b[43m,\u001b[49m\u001b[43m \u001b[49m\u001b[43m*\u001b[49m\u001b[43m*\u001b[49m\u001b[43mkwds\u001b[49m\u001b[43m)\u001b[49m\n\u001b[32m    622\u001b[39m \u001b[38;5;28;01mif\u001b[39;00m chunksize \u001b[38;5;129;01mor\u001b[39;00m iterator:\n\u001b[32m    623\u001b[39m     \u001b[38;5;28;01mreturn\u001b[39;00m parser\n",
      "\u001b[36mFile \u001b[39m\u001b[32m~/llm_data_analysis_bench/IDA-Bench/.venv/lib/python3.12/site-packages/pandas/io/parsers/readers.py:1620\u001b[39m, in \u001b[36mTextFileReader.__init__\u001b[39m\u001b[34m(self, f, engine, **kwds)\u001b[39m\n\u001b[32m   1617\u001b[39m     \u001b[38;5;28mself\u001b[39m.options[\u001b[33m\"\u001b[39m\u001b[33mhas_index_names\u001b[39m\u001b[33m\"\u001b[39m] = kwds[\u001b[33m\"\u001b[39m\u001b[33mhas_index_names\u001b[39m\u001b[33m\"\u001b[39m]\n\u001b[32m   1619\u001b[39m \u001b[38;5;28mself\u001b[39m.handles: IOHandles | \u001b[38;5;28;01mNone\u001b[39;00m = \u001b[38;5;28;01mNone\u001b[39;00m\n\u001b[32m-> \u001b[39m\u001b[32m1620\u001b[39m \u001b[38;5;28mself\u001b[39m._engine = \u001b[38;5;28;43mself\u001b[39;49m\u001b[43m.\u001b[49m\u001b[43m_make_engine\u001b[49m\u001b[43m(\u001b[49m\u001b[43mf\u001b[49m\u001b[43m,\u001b[49m\u001b[43m \u001b[49m\u001b[38;5;28;43mself\u001b[39;49m\u001b[43m.\u001b[49m\u001b[43mengine\u001b[49m\u001b[43m)\u001b[49m\n",
      "\u001b[36mFile \u001b[39m\u001b[32m~/llm_data_analysis_bench/IDA-Bench/.venv/lib/python3.12/site-packages/pandas/io/parsers/readers.py:1880\u001b[39m, in \u001b[36mTextFileReader._make_engine\u001b[39m\u001b[34m(self, f, engine)\u001b[39m\n\u001b[32m   1878\u001b[39m     \u001b[38;5;28;01mif\u001b[39;00m \u001b[33m\"\u001b[39m\u001b[33mb\u001b[39m\u001b[33m\"\u001b[39m \u001b[38;5;129;01mnot\u001b[39;00m \u001b[38;5;129;01min\u001b[39;00m mode:\n\u001b[32m   1879\u001b[39m         mode += \u001b[33m\"\u001b[39m\u001b[33mb\u001b[39m\u001b[33m\"\u001b[39m\n\u001b[32m-> \u001b[39m\u001b[32m1880\u001b[39m \u001b[38;5;28mself\u001b[39m.handles = \u001b[43mget_handle\u001b[49m\u001b[43m(\u001b[49m\n\u001b[32m   1881\u001b[39m \u001b[43m    \u001b[49m\u001b[43mf\u001b[49m\u001b[43m,\u001b[49m\n\u001b[32m   1882\u001b[39m \u001b[43m    \u001b[49m\u001b[43mmode\u001b[49m\u001b[43m,\u001b[49m\n\u001b[32m   1883\u001b[39m \u001b[43m    \u001b[49m\u001b[43mencoding\u001b[49m\u001b[43m=\u001b[49m\u001b[38;5;28;43mself\u001b[39;49m\u001b[43m.\u001b[49m\u001b[43moptions\u001b[49m\u001b[43m.\u001b[49m\u001b[43mget\u001b[49m\u001b[43m(\u001b[49m\u001b[33;43m\"\u001b[39;49m\u001b[33;43mencoding\u001b[39;49m\u001b[33;43m\"\u001b[39;49m\u001b[43m,\u001b[49m\u001b[43m \u001b[49m\u001b[38;5;28;43;01mNone\u001b[39;49;00m\u001b[43m)\u001b[49m\u001b[43m,\u001b[49m\n\u001b[32m   1884\u001b[39m \u001b[43m    \u001b[49m\u001b[43mcompression\u001b[49m\u001b[43m=\u001b[49m\u001b[38;5;28;43mself\u001b[39;49m\u001b[43m.\u001b[49m\u001b[43moptions\u001b[49m\u001b[43m.\u001b[49m\u001b[43mget\u001b[49m\u001b[43m(\u001b[49m\u001b[33;43m\"\u001b[39;49m\u001b[33;43mcompression\u001b[39;49m\u001b[33;43m\"\u001b[39;49m\u001b[43m,\u001b[49m\u001b[43m \u001b[49m\u001b[38;5;28;43;01mNone\u001b[39;49;00m\u001b[43m)\u001b[49m\u001b[43m,\u001b[49m\n\u001b[32m   1885\u001b[39m \u001b[43m    \u001b[49m\u001b[43mmemory_map\u001b[49m\u001b[43m=\u001b[49m\u001b[38;5;28;43mself\u001b[39;49m\u001b[43m.\u001b[49m\u001b[43moptions\u001b[49m\u001b[43m.\u001b[49m\u001b[43mget\u001b[49m\u001b[43m(\u001b[49m\u001b[33;43m\"\u001b[39;49m\u001b[33;43mmemory_map\u001b[39;49m\u001b[33;43m\"\u001b[39;49m\u001b[43m,\u001b[49m\u001b[43m \u001b[49m\u001b[38;5;28;43;01mFalse\u001b[39;49;00m\u001b[43m)\u001b[49m\u001b[43m,\u001b[49m\n\u001b[32m   1886\u001b[39m \u001b[43m    \u001b[49m\u001b[43mis_text\u001b[49m\u001b[43m=\u001b[49m\u001b[43mis_text\u001b[49m\u001b[43m,\u001b[49m\n\u001b[32m   1887\u001b[39m \u001b[43m    \u001b[49m\u001b[43merrors\u001b[49m\u001b[43m=\u001b[49m\u001b[38;5;28;43mself\u001b[39;49m\u001b[43m.\u001b[49m\u001b[43moptions\u001b[49m\u001b[43m.\u001b[49m\u001b[43mget\u001b[49m\u001b[43m(\u001b[49m\u001b[33;43m\"\u001b[39;49m\u001b[33;43mencoding_errors\u001b[39;49m\u001b[33;43m\"\u001b[39;49m\u001b[43m,\u001b[49m\u001b[43m \u001b[49m\u001b[33;43m\"\u001b[39;49m\u001b[33;43mstrict\u001b[39;49m\u001b[33;43m\"\u001b[39;49m\u001b[43m)\u001b[49m\u001b[43m,\u001b[49m\n\u001b[32m   1888\u001b[39m \u001b[43m    \u001b[49m\u001b[43mstorage_options\u001b[49m\u001b[43m=\u001b[49m\u001b[38;5;28;43mself\u001b[39;49m\u001b[43m.\u001b[49m\u001b[43moptions\u001b[49m\u001b[43m.\u001b[49m\u001b[43mget\u001b[49m\u001b[43m(\u001b[49m\u001b[33;43m\"\u001b[39;49m\u001b[33;43mstorage_options\u001b[39;49m\u001b[33;43m\"\u001b[39;49m\u001b[43m,\u001b[49m\u001b[43m \u001b[49m\u001b[38;5;28;43;01mNone\u001b[39;49;00m\u001b[43m)\u001b[49m\u001b[43m,\u001b[49m\n\u001b[32m   1889\u001b[39m \u001b[43m\u001b[49m\u001b[43m)\u001b[49m\n\u001b[32m   1890\u001b[39m \u001b[38;5;28;01massert\u001b[39;00m \u001b[38;5;28mself\u001b[39m.handles \u001b[38;5;129;01mis\u001b[39;00m \u001b[38;5;129;01mnot\u001b[39;00m \u001b[38;5;28;01mNone\u001b[39;00m\n\u001b[32m   1891\u001b[39m f = \u001b[38;5;28mself\u001b[39m.handles.handle\n",
      "\u001b[36mFile \u001b[39m\u001b[32m~/llm_data_analysis_bench/IDA-Bench/.venv/lib/python3.12/site-packages/pandas/io/common.py:873\u001b[39m, in \u001b[36mget_handle\u001b[39m\u001b[34m(path_or_buf, mode, encoding, compression, memory_map, is_text, errors, storage_options)\u001b[39m\n\u001b[32m    868\u001b[39m \u001b[38;5;28;01melif\u001b[39;00m \u001b[38;5;28misinstance\u001b[39m(handle, \u001b[38;5;28mstr\u001b[39m):\n\u001b[32m    869\u001b[39m     \u001b[38;5;66;03m# Check whether the filename is to be opened in binary mode.\u001b[39;00m\n\u001b[32m    870\u001b[39m     \u001b[38;5;66;03m# Binary mode does not support 'encoding' and 'newline'.\u001b[39;00m\n\u001b[32m    871\u001b[39m     \u001b[38;5;28;01mif\u001b[39;00m ioargs.encoding \u001b[38;5;129;01mand\u001b[39;00m \u001b[33m\"\u001b[39m\u001b[33mb\u001b[39m\u001b[33m\"\u001b[39m \u001b[38;5;129;01mnot\u001b[39;00m \u001b[38;5;129;01min\u001b[39;00m ioargs.mode:\n\u001b[32m    872\u001b[39m         \u001b[38;5;66;03m# Encoding\u001b[39;00m\n\u001b[32m--> \u001b[39m\u001b[32m873\u001b[39m         handle = \u001b[38;5;28;43mopen\u001b[39;49m\u001b[43m(\u001b[49m\n\u001b[32m    874\u001b[39m \u001b[43m            \u001b[49m\u001b[43mhandle\u001b[49m\u001b[43m,\u001b[49m\n\u001b[32m    875\u001b[39m \u001b[43m            \u001b[49m\u001b[43mioargs\u001b[49m\u001b[43m.\u001b[49m\u001b[43mmode\u001b[49m\u001b[43m,\u001b[49m\n\u001b[32m    876\u001b[39m \u001b[43m            \u001b[49m\u001b[43mencoding\u001b[49m\u001b[43m=\u001b[49m\u001b[43mioargs\u001b[49m\u001b[43m.\u001b[49m\u001b[43mencoding\u001b[49m\u001b[43m,\u001b[49m\n\u001b[32m    877\u001b[39m \u001b[43m            \u001b[49m\u001b[43merrors\u001b[49m\u001b[43m=\u001b[49m\u001b[43merrors\u001b[49m\u001b[43m,\u001b[49m\n\u001b[32m    878\u001b[39m \u001b[43m            \u001b[49m\u001b[43mnewline\u001b[49m\u001b[43m=\u001b[49m\u001b[33;43m\"\u001b[39;49m\u001b[33;43m\"\u001b[39;49m\u001b[43m,\u001b[49m\n\u001b[32m    879\u001b[39m \u001b[43m        \u001b[49m\u001b[43m)\u001b[49m\n\u001b[32m    880\u001b[39m     \u001b[38;5;28;01melse\u001b[39;00m:\n\u001b[32m    881\u001b[39m         \u001b[38;5;66;03m# Binary mode\u001b[39;00m\n\u001b[32m    882\u001b[39m         handle = \u001b[38;5;28mopen\u001b[39m(handle, ioargs.mode)\n",
      "\u001b[31mFileNotFoundError\u001b[39m: [Errno 2] No such file or directory: 'preprocessing_notebook/preprocess_data/sudalairajkumar#####simple-feature-engg-notebook-spooky-author/dataset/baseline_submission.csv'"
     ]
    }
   ],
   "source": [
    "preprocessor.run()"
   ]
  },
  {
   "cell_type": "code",
   "execution_count": 4,
   "metadata": {},
   "outputs": [
    {
     "name": "stdout",
     "output_type": "stream",
     "text": [
      "2025-05-14 12:35:27 - DataSciBench - INFO - Running evaluation...\n",
      "2025-05-14 12:35:27 - DataSciBench - INFO - Evaluation completed. Score: 0.32835290155797936\n",
      "2025-05-14 12:35:27 - DataSciBench - INFO - Evaluation information saved to: preprocessing_notebook/preprocess_data/sudalairajkumar#####simple-feature-engg-notebook-spooky-author/numeric_baseline.json\n",
      "2025-05-14 12:35:27 - DataSciBench - INFO - Evaluated reconstructed code\n",
      "Copied 'is_higher_better': False\n",
      "Copied 'theoretical_best': 0.0\n",
      "Successfully updated preprocessing_notebook/preprocess_data/sudalairajkumar#####simple-feature-engg-notebook-spooky-author/numeric_baseline.json with values from preprocessing_notebook/preprocess_data/sudalairajkumar#####simple-feature-engg-notebook-spooky-author/metric_info.json\n",
      "2025-05-14 12:35:27 - DataSciBench - INFO - Copied None from preprocessing_notebook/preprocess_data/sudalairajkumar#####simple-feature-engg-notebook-spooky-author/metric_info.json to preprocessing_notebook/preprocess_data/sudalairajkumar#####simple-feature-engg-notebook-spooky-author/numeric_baseline.json\n",
      "2025-05-14 12:35:27 - DataSciBench - INFO - Read notebook content from preprocessing_notebook/preprocess_data/sudalairajkumar#####simple-feature-engg-notebook-spooky-author/minimized_markdown.md\n"
     ]
    },
    {
     "name": "stderr",
     "output_type": "stream",
     "text": [
      "/home/music/llm_data_analysis_bench/IDA-Bench/.venv/lib/python3.12/site-packages/sklearn/metrics/_classification.py:3001: UserWarning: The y_pred values do not sum to one. Make sure to pass probabilities.\n",
      "  warnings.warn(\n"
     ]
    },
    {
     "name": "stdout",
     "output_type": "stream",
     "text": [
      "2025-05-14 12:35:55 - DataSciBench - INFO - Full response from extractor saved to: preprocessing_notebook/preprocess_data/sudalairajkumar#####simple-feature-engg-notebook-spooky-author/narration_response.md\n",
      "2025-05-14 12:35:55 - DataSciBench - INFO - Collected narration response from sudalairajkumar#####simple-feature-engg-notebook-spooky-author.md\n",
      "2025-05-14 12:35:55 - DataSciBench - INFO - Reading response from file: preprocessing_notebook/preprocess_data/sudalairajkumar#####simple-feature-engg-notebook-spooky-author/narration_response.md\n",
      "2025-05-14 12:35:55 - DataSciBench - INFO - Extracting instructions and knowledge from response\n",
      "2025-05-14 12:35:55 - DataSciBench - INFO - Parsed instructions saved to: preprocessing_notebook/preprocess_data/sudalairajkumar#####simple-feature-engg-notebook-spooky-author/instructions.md\n",
      "2025-05-14 12:35:55 - DataSciBench - INFO - Parsed knowledge saved to: preprocessing_notebook/preprocess_data/sudalairajkumar#####simple-feature-engg-notebook-spooky-author/knowledge.md\n",
      "2025-05-14 12:35:55 - DataSciBench - INFO - Found 14 instruction items and 10 knowledge items\n",
      "2025-05-14 12:35:55 - DataSciBench - INFO - Parsed instructions and knowledge from narration response and saved to preprocessing_notebook/preprocess_data/sudalairajkumar#####simple-feature-engg-notebook-spooky-author/instructions.md and preprocessing_notebook/preprocess_data/sudalairajkumar#####simple-feature-engg-notebook-spooky-author/knowledge.md\n"
     ]
    }
   ],
   "source": [
    "#preprocessor.run_python_notebook()\n",
    "preprocessor._set_data_paths()\n",
    "preprocessor.run_evaluation()\n",
    "preprocessor.copy_dict_items()\n",
    "### narration\n",
    "preprocessor.narration()\n",
    "preprocessor.extract_instructions_and_knowledge()"
   ]
  },
  {
   "cell_type": "code",
   "execution_count": 7,
   "metadata": {},
   "outputs": [
    {
     "name": "stdout",
     "output_type": "stream",
     "text": [
      "2025-05-14 00:25:28 - DataSciBench - INFO - Executed Python file: preprocessing_notebook/preprocess_data/shaswatatripathy#####store-sales-prediction/minimized_notebook.py\n",
      "2025-05-14 00:25:28 - DataSciBench - INFO - Read notebook content from preprocessing_notebook/preprocess_data/shaswatatripathy#####store-sales-prediction/minimized_markdown.md\n",
      "2025-05-14 00:25:58 - DataSciBench - INFO - Full response from extractor saved to: preprocessing_notebook/preprocess_data/shaswatatripathy#####store-sales-prediction/narration_response.md\n",
      "2025-05-14 00:25:58 - DataSciBench - INFO - Collected narration response from shaswatatripathy#####store-sales-prediction.md\n",
      "2025-05-14 00:25:58 - DataSciBench - INFO - Reading response from file: preprocessing_notebook/preprocess_data/shaswatatripathy#####store-sales-prediction/narration_response.md\n",
      "2025-05-14 00:25:58 - DataSciBench - INFO - Extracting instructions and knowledge from response\n",
      "2025-05-14 00:25:58 - DataSciBench - INFO - Parsed instructions saved to: preprocessing_notebook/preprocess_data/shaswatatripathy#####store-sales-prediction/instructions.md\n",
      "2025-05-14 00:25:58 - DataSciBench - INFO - Parsed knowledge saved to: preprocessing_notebook/preprocess_data/shaswatatripathy#####store-sales-prediction/knowledge.md\n",
      "2025-05-14 00:25:58 - DataSciBench - INFO - Found 21 instruction items and 10 knowledge items\n",
      "2025-05-14 00:25:58 - DataSciBench - INFO - Parsed instructions and knowledge from narration response and saved to preprocessing_notebook/preprocess_data/shaswatatripathy#####store-sales-prediction/instructions.md and preprocessing_notebook/preprocess_data/shaswatatripathy#####store-sales-prediction/knowledge.md\n"
     ]
    }
   ],
   "source": [
    "preprocessor._set_data_paths()\n",
    "preprocessor.run_python_notebook()\n",
    "preprocessor.narration()\n",
    "preprocessor.extract_instructions_and_knowledge()"
   ]
  },
  {
   "cell_type": "code",
   "execution_count": 3,
   "metadata": {},
   "outputs": [
    {
     "name": "stdout",
     "output_type": "stream",
     "text": [
      "2025-05-10 16:02:26 - DataSciBench - INFO - Found 4 CSV files in benchmark_data/datasets/storage/shashanknecrothapa/ames-housing-dataset\n",
      "2025-05-10 16:02:26 - DataSciBench - INFO - Attempting to read AmesHousing.csv with utf-8 encoding\n",
      "2025-05-10 16:02:26 - DataSciBench - INFO - Wrote AmesHousing_train.csv and AmesHousing_test.csv\n",
      "2025-05-10 16:02:26 - DataSciBench - INFO - Attempting to read AmesHousing_test.csv with utf-8 encoding\n",
      "2025-05-10 16:02:26 - DataSciBench - INFO - Wrote feature file AmesHousing_test_features.csv (dropped 1 response columns)\n",
      "2025-05-10 16:02:26 - DataSciBench - INFO - Split dataset into train and test sets\n"
     ]
    }
   ],
   "source": [
    "#preprocessor.convert_full_notebook_to_markdown()\n",
    "#preprocessor.minimize_notebook()\n",
    "#preprocessor.extract_minimized_markdown()\n",
    "#preprocessor.extract_numerical_result()\n",
    "#preprocessor.convert_markdown_to_python()\n",
    "\n",
    "### split dataset\n",
    "preprocessor.split_dataset()\n"
   ]
  },
  {
   "cell_type": "code",
   "execution_count": 4,
   "metadata": {},
   "outputs": [
    {
     "name": "stdout",
     "output_type": "stream",
     "text": [
      "2025-05-14 11:54:29 - DataSciBench - INFO - Executed Python file: preprocessing_notebook/preprocess_data/sudalairajkumar#####simple-feature-engg-notebook-spooky-author/minimized_notebook.py\n",
      "2025-05-14 11:54:29 - DataSciBench - INFO - Running evaluation...\n",
      "2025-05-14 11:54:29 - DataSciBench - INFO - Evaluation completed. Score: 0.32835290155797936\n",
      "2025-05-14 11:54:29 - DataSciBench - INFO - Evaluation information saved to: preprocessing_notebook/preprocess_data/sudalairajkumar#####simple-feature-engg-notebook-spooky-author/numeric_baseline.json\n",
      "2025-05-14 11:54:29 - DataSciBench - INFO - Evaluated reconstructed code\n",
      "2025-05-14 11:54:29 - DataSciBench - INFO - Read notebook content from preprocessing_notebook/preprocess_data/sudalairajkumar#####simple-feature-engg-notebook-spooky-author/minimized_markdown.md\n"
     ]
    },
    {
     "name": "stderr",
     "output_type": "stream",
     "text": [
      "/home/music/llm_data_analysis_bench/IDA-Bench/.venv/lib/python3.12/site-packages/sklearn/metrics/_classification.py:3001: UserWarning: The y_pred values do not sum to one. Make sure to pass probabilities.\n",
      "  warnings.warn(\n"
     ]
    },
    {
     "name": "stdout",
     "output_type": "stream",
     "text": [
      "2025-05-14 11:54:53 - DataSciBench - INFO - Full response from extractor saved to: preprocessing_notebook/preprocess_data/sudalairajkumar#####simple-feature-engg-notebook-spooky-author/narration_response.md\n",
      "2025-05-14 11:54:53 - DataSciBench - INFO - Collected narration response from sudalairajkumar#####simple-feature-engg-notebook-spooky-author.md\n",
      "2025-05-14 11:54:53 - DataSciBench - INFO - Reading response from file: preprocessing_notebook/preprocess_data/sudalairajkumar#####simple-feature-engg-notebook-spooky-author/narration_response.md\n",
      "2025-05-14 11:54:53 - DataSciBench - INFO - Extracting instructions and knowledge from response\n",
      "2025-05-14 11:54:53 - DataSciBench - INFO - Parsed instructions saved to: preprocessing_notebook/preprocess_data/sudalairajkumar#####simple-feature-engg-notebook-spooky-author/instructions.md\n",
      "2025-05-14 11:54:53 - DataSciBench - INFO - Parsed knowledge saved to: preprocessing_notebook/preprocess_data/sudalairajkumar#####simple-feature-engg-notebook-spooky-author/knowledge.md\n",
      "2025-05-14 11:54:53 - DataSciBench - INFO - Found 10 instruction items and 10 knowledge items\n",
      "2025-05-14 11:54:53 - DataSciBench - INFO - Parsed instructions and knowledge from narration response and saved to preprocessing_notebook/preprocess_data/sudalairajkumar#####simple-feature-engg-notebook-spooky-author/instructions.md and preprocessing_notebook/preprocess_data/sudalairajkumar#####simple-feature-engg-notebook-spooky-author/knowledge.md\n"
     ]
    }
   ],
   "source": [
    "\n",
    "### reconstruct minimized notebook\n",
    "# preprocessor.reconstruct_minimized_notebook()\n",
    "# preprocessor.extract_reconstructed_code()\n",
    "# preprocessor.extract_evaluation_metrics()\n",
    "\n",
    "### run python notebook and evaluation\n",
    "preprocessor._set_data_paths()\n",
    "preprocessor.run_python_notebook()\n",
    "preprocessor.run_evaluation()\n",
    "\n",
    "### narration\n",
    "preprocessor.narration()\n",
    "preprocessor.extract_instructions_and_knowledge() \n"
   ]
  },
  {
   "cell_type": "code",
   "execution_count": 4,
   "metadata": {},
   "outputs": [
    {
     "name": "stdout",
     "output_type": "stream",
     "text": [
      "2025-05-10 20:41:43 - DataSciBench - INFO - Executed Python file: preprocessing_notebook/preprocess_data/hasangulec#####feature-engineering-diabetes/reconstructed_code.py\n",
      "2025-05-10 20:41:43 - DataSciBench - INFO - Running evaluation...\n",
      "2025-05-10 20:41:43 - DataSciBench - INFO - Evaluation completed. Score: 0.7489177489177489\n",
      "2025-05-10 20:41:43 - DataSciBench - INFO - Evaluation information saved to: preprocessing_notebook/preprocess_data/hasangulec#####feature-engineering-diabetes/numeric_baseline.json\n",
      "2025-05-10 20:41:43 - DataSciBench - INFO - Evaluated reconstructed code\n"
     ]
    }
   ],
   "source": [
    "# preprocessor.extract_reconstructed_code()\n",
    "# preprocessor.extract_evaluation_metrics()\n",
    "\n",
    "### run python notebook and evaluation\n",
    "preprocessor.run_python_notebook()\n",
    "preprocessor.run_evaluation()"
   ]
  },
  {
   "cell_type": "code",
   "execution_count": null,
   "metadata": {},
   "outputs": [],
   "source": []
  }
 ],
 "metadata": {
  "kernelspec": {
   "display_name": ".venv",
   "language": "python",
   "name": "python3"
  },
  "language_info": {
   "codemirror_mode": {
    "name": "ipython",
    "version": 3
   },
   "file_extension": ".py",
   "mimetype": "text/x-python",
   "name": "python",
   "nbconvert_exporter": "python",
   "pygments_lexer": "ipython3",
   "version": "3.12.4"
  }
 },
 "nbformat": 4,
 "nbformat_minor": 2
}
